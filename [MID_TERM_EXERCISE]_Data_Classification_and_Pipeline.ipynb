{
  "nbformat": 4,
  "nbformat_minor": 0,
  "metadata": {
    "colab": {
      "provenance": []
    },
    "kernelspec": {
      "name": "python3",
      "display_name": "Python 3"
    },
    "language_info": {
      "name": "python"
    }
  },
  "cells": [
    {
      "cell_type": "markdown",
      "source": [
        "<a href=\"https://colab.research.google.com/drive/15049k1tK973DsVFNnrbOyaVl8aH5aKTr?usp=sharing\" target=\"_parent\"><img src=\"https://colab.research.google.com/assets/colab-badge.svg\" alt=\"Open In Colab\"/></a>"
      ],
      "metadata": {
        "id": "zcEWCqHhSD9h"
      }
    },
    {
      "cell_type": "markdown",
      "source": [
        "# **PRE-MIDTERM EXAM ASSIGNMENT #1 (EXERCISE)**\n",
        "***PREDICTIVE MODELING AND ANALYTICS [IUP]***"
      ],
      "metadata": {
        "id": "a5kzY0mZhX0y"
      }
    },
    {
      "cell_type": "code",
      "execution_count": null,
      "metadata": {
        "id": "RZbigX_xhR8u"
      },
      "outputs": [],
      "source": [
        "##### DATA PROCESSING LIBRARY #####\n",
        "import os\n",
        "import numpy as np # Linear algebra\n",
        "import pandas as pd # Data wrangling, read the data\n",
        "import matplotlib.pyplot as plt # Data visualization\n",
        "import seaborn as sns # Data visualization\n",
        "\n",
        "\n",
        "##### MACHINE LEARNING / DEEP LEARNING LIBRARY #####\n",
        "import sklearn # Machine learning, metrics, etc.\n",
        "from sklearn.model_selection import train_test_split\n",
        "import tensorflow as tf # Library for deep learning\n",
        "from sklearn.linear_model import LogisticRegression # Logistic Regression\n",
        "from sklearn.svm import SVC # Support Vector Machine\n",
        "from sklearn.naive_bayes import GaussianNB # Gaussian Naive Bayes\n",
        "from sklearn.naive_bayes import MultinomialNB # Multinomial Naive Bayes\n",
        "from sklearn.neighbors import KNeighborsClassifier # K Nearest Neighbor\n",
        "from sklearn.tree import DecisionTreeClassifier # Decision Tree Classifier\n",
        "from sklearn.ensemble import RandomForestClassifier # Random Forest\n",
        "from sklearn.metrics import precision_score, recall_score, f1_score, confusion_matrix, classification_report # Metrics to evaluate model performance"
      ]
    },
    {
      "cell_type": "markdown",
      "source": [
        "## Read Data"
      ],
      "metadata": {
        "id": "2v72riJzPLJh"
      }
    },
    {
      "cell_type": "code",
      "source": [
        "# read data from Seaborn library\n",
        "df = sns.load_dataset(\"titanic\")"
      ],
      "metadata": {
        "id": "lf1a75DNPNKk"
      },
      "execution_count": null,
      "outputs": []
    },
    {
      "cell_type": "markdown",
      "source": [
        "Get dataframe info, and see the null values in each of the column"
      ],
      "metadata": {
        "id": "6mTgbTUFTMWS"
      }
    },
    {
      "cell_type": "code",
      "source": [
        "# YOUR CODE HERE\n",
        "\n",
        "__.info()"
      ],
      "metadata": {
        "id": "KdJbfV1ETOE-"
      },
      "execution_count": null,
      "outputs": []
    },
    {
      "cell_type": "markdown",
      "source": [
        "Get the first 5 row in the dataset"
      ],
      "metadata": {
        "id": "Zzi1_E3rTiNg"
      }
    },
    {
      "cell_type": "code",
      "source": [
        "# YOUR CODE HERE\n",
        "\n",
        "df.____()"
      ],
      "metadata": {
        "id": "R8CDqoI7TcZI"
      },
      "execution_count": null,
      "outputs": []
    },
    {
      "cell_type": "markdown",
      "source": [
        "Get the last 5 row in the dataset"
      ],
      "metadata": {
        "id": "-oWtws9aTmKZ"
      }
    },
    {
      "cell_type": "code",
      "source": [
        "# YOUR CODE HERE\n",
        "\n",
        "_________"
      ],
      "metadata": {
        "id": "TNCmGCwTTovv"
      },
      "execution_count": null,
      "outputs": []
    },
    {
      "cell_type": "markdown",
      "source": [
        "## Preprocess Data\n",
        "Preprocess the data including:\n",
        "\n",
        "1. Filling the null values\n",
        "2. Convert data to numerical values\n",
        "3. Removing outliers"
      ],
      "metadata": {
        "id": "upDTk5MqPNmw"
      }
    },
    {
      "cell_type": "code",
      "source": [
        "# YOUR CODE HERE"
      ],
      "metadata": {
        "id": "BGIPxMILPQXT"
      },
      "execution_count": null,
      "outputs": []
    },
    {
      "cell_type": "markdown",
      "source": [
        "## Data Modeling\n",
        "Model data to classify data to binary class with machine learning algorithm, You can use:\n",
        "\n",
        "1. Logistic Regression\n",
        "2. Decision Tree\n",
        "3. K-nearest Neighbors\n",
        "4. Random Forest\n",
        "\n",
        "NOTE: Don't forget to split the dataset to train and test set (split size is depend on how the data distribute evenly, try 70% for train set and 30% for test set)"
      ],
      "metadata": {
        "id": "HumwzgbrPQ8T"
      }
    },
    {
      "cell_type": "code",
      "source": [
        "# YOUR CODE HERE"
      ],
      "metadata": {
        "id": "6TpWXVTSPTZ3"
      },
      "execution_count": null,
      "outputs": []
    },
    {
      "cell_type": "markdown",
      "source": [
        "## Model Evaluation\n",
        "See the model performance with various metrics, including:\n",
        "\n",
        "1. Accuracy\n",
        "2. Precision\n",
        "3. Recall\n",
        "4. F1-Score"
      ],
      "metadata": {
        "id": "4In1mgxlPUCz"
      }
    },
    {
      "cell_type": "code",
      "source": [
        "# YOUR CODE HERE"
      ],
      "metadata": {
        "id": "fvWn9QOqPWEk"
      },
      "execution_count": null,
      "outputs": []
    }
  ]
}